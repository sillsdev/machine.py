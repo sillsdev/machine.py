{
 "cells": [
  {
   "cell_type": "markdown",
   "metadata": {},
   "source": [
    "# Word Alignment Tutorial\n",
    "\n",
    "In this notebook, we will demonstrate how to use machine to train statistical word alignment models and then use them to predict alignments between sentences. Machine uses the [Thot](https://github.com/sillsdev/thot) library to implement word alignment models. The classes can be enabled by installing the `sil-machine` package with the `thot` optional dependency. Machine has implementations of all common statistical models, including the famous IBM models (1-4), HMM, and FastAlign."
   ]
  },
  {
   "cell_type": "markdown",
   "metadata": {},
   "source": [
    "## Setting up a parallel text corpus\n",
    "\n",
    "The first step in word alignment is setting up a parallel text corpus. Word alignment models are unsupervised, so they only require a parallel text corpus to train. Manually created alignments are not necessary. So let's create a parallel corpus from the source and target monolingual corpora."
   ]
  },
  {
   "cell_type": "code",
   "execution_count": 1,
   "metadata": {},
   "outputs": [],
   "source": [
    "from machine.corpora import ParatextTextCorpus\n",
    "from machine.tokenization import LatinWordTokenizer\n",
    "\n",
    "source_corpus = ParatextTextCorpus(\"data/VBL-PT\")\n",
    "target_corpus = ParatextTextCorpus(\"data/WEB-PT\")\n",
    "parallel_corpus = source_corpus.align_rows(target_corpus).tokenize(LatinWordTokenizer())"
   ]
  },
  {
   "cell_type": "markdown",
   "metadata": {},
   "source": [
    "## Simple word alignment\n",
    "\n",
    "The easiest way to align a parallel corpus is to use the `word_align_corpus` function. The function will train the model and align the corpus. The alignment will be stored in the `aligned_word_pairs` property as a collection of `AlignedWordPair` instances. By default, the `word_align_corpus` function uses FastAlign. "
   ]
  },
  {
   "cell_type": "code",
   "execution_count": 2,
   "metadata": {},
   "outputs": [
    {
     "name": "stdout",
     "output_type": "stream",
     "text": [
      "Source: esta carta trata sobre la palabra de vida que existía desde el principio , que hemos escuchado , que hemos visto con nuestros propios ojos y le hemos contemplado , y que hemos tocado con nuestras manos .\n",
      "Target: that which was from the beginning , that which we have heard , that which we have seen with our eyes , that which we saw , and our hands touched , concerning the word of life\n",
      "Alignment: 0-0 2-1 4-4 5-34 6-6 7-36 8-7 9-8 10-8 12-5 13-12 14-13 15-9 15-10 15-14 15-15 15-16 16-11 18-22 19-20 20-17 21-18 22-19 26-24 27-23 27-25 28-26 29-26 30-27 31-28 32-29 32-30 33-31 35-28 37-32\n",
      "Source: esta vida nos fue revelada . la vimos y damos testimonio de ella . estamos hablándoles de aquél que es la vida eterna , que estaba con el padre , y que nos fue revelado .\n",
      "Target: ( and the life was revealed , and we have seen , and testify , and declare to you the life , the eternal life , which was with the father , and was revealed to us ) ;\n",
      "Alignment: 0-2 1-3 2-8 3-4 3-5 4-7 5-7 6-6 7-7 8-7 10-11 11-13 12-12 13-15 14-14 15-14 16-13 17-19 19-21 20-22 21-24 22-23 23-25 24-26 25-27 26-28 27-29 28-30 29-31 30-32 31-35 32-36 33-33 33-34 34-37 35-38\n",
      "Source: los que hemos visto y oído eso mismo les contamos , para que también puedan participar de esta amistad junto a nosotros . esta amistad con el padre y su hijo jesucristo .\n",
      "Target: that which we have seen and heard we declare to you , that you also may have fellowship with us . yes , and our fellowship is with the father and with his son , jesus christ .\n",
      "Alignment: 1-0 2-1 2-2 2-3 3-4 4-5 5-7 6-9 7-8 8-10 9-10 10-11 11-12 12-12 13-14 14-15 18-17 18-18 20-22 21-19 22-20 23-28 24-25 25-27 26-26 27-29 28-30 29-32 30-33 31-35 31-36 32-37\n",
      "Source: escribimos para decirles esto , a fin de que nuestra felicidad sea completa .\n",
      "Target: and we write these things to you , that our joy may be fulfilled .\n",
      "Alignment: 0-0 1-1 2-2 3-3 3-4 4-7 5-5 5-6 6-6 7-7 8-8 8-9 9-10 10-10 10-11 11-12 12-13 13-14\n",
      "Source: este es el mensaje que recibimos de él y que nosotros les declaramos a ustedes : dios es luz , y no hay ningún vestigio de oscuridad en él .\n",
      "Target: this is the message which we have heard from him and announce to you , that god is light , and in him is no darkness at all .\n",
      "Alignment: 0-0 0-2 1-1 2-2 3-3 4-4 5-3 6-8 7-9 8-10 9-7 10-5 11-12 12-11 13-12 14-13 15-14 15-15 16-16 17-17 18-18 19-19 20-20 21-24 22-23 22-24 23-23 24-23 25-27 26-25 27-21 27-26 28-22 29-28\n"
     ]
    }
   ],
   "source": [
    "from machine.translation import word_align_corpus\n",
    "from machine.corpora import AlignedWordPair\n",
    "\n",
    "aligned_corpus = word_align_corpus(parallel_corpus.lowercase())\n",
    "for row in aligned_corpus.take(5):\n",
    "    print(\"Source:\", row.source_text)\n",
    "    print(\"Target:\", row.target_text)\n",
    "    print(\"Alignment:\", AlignedWordPair.to_string(row.aligned_word_pairs, include_scores=False))"
   ]
  },
  {
   "cell_type": "markdown",
   "metadata": {},
   "source": [
    "You can specify a different word alignment model by specifying the `aligner` parameter. Let's align the same corpus using IBM-1."
   ]
  },
  {
   "cell_type": "code",
   "execution_count": 3,
   "metadata": {},
   "outputs": [
    {
     "name": "stdout",
     "output_type": "stream",
     "text": [
      "Source: esta carta trata sobre la palabra de vida que existía desde el principio , que hemos escuchado , que hemos visto con nuestros propios ojos y le hemos contemplado , y que hemos tocado con nuestras manos .\n",
      "Target: that which was from the beginning , that which we have heard , that which we have seen with our eyes , that which we saw , and our hands touched , concerning the word of life\n",
      "Alignment: 1-25 2-25 3-32 4-4 4-33 5-34 6-35 7-36 8-0 12-5 13-6 15-10 16-11 19-20 20-17 21-18 22-19 25-27 35-9\n",
      "Source: esta vida nos fue revelada . la vimos y damos testimonio de ella . estamos hablándoles de aquél que es la vida eterna , que estaba con el padre , y que nos fue revelado .\n",
      "Target: ( and the life was revealed , and we have seen , and testify , and declare to you the life , the eternal life , which was with the father , and was revealed to us ) ;\n",
      "Alignment: 0-17 1-3 2-36 3-4 4-0 6-38 7-0 8-1 9-0 10-0 11-13 12-18 14-8 18-9 22-23 23-6 26-28 27-2 28-29 28-30 33-4 34-5\n",
      "Source: los que hemos visto y oído eso mismo les contamos , para que también puedan participar de esta amistad junto a nosotros . esta amistad con el padre y su hijo jesucristo .\n",
      "Target: that which we have seen and heard we declare to you , that you also may have fellowship with us . yes , and our fellowship is with the father and with his son , jesus christ .\n",
      "Alignment: 1-0 2-1 2-2 2-3 3-4 4-5 5-21 6-9 8-10 10-11 13-14 14-15 17-8 18-17 19-17 21-19 22-20 24-17 25-18 26-26 27-28 27-29 29-32 30-33 31-35 31-36\n",
      "Source: escribimos para decirles esto , a fin de que nuestra felicidad sea completa .\n",
      "Target: and we write these things to you , that our joy may be fulfilled .\n",
      "Alignment: 0-13 1-8 2-4 3-3 3-5 3-6 4-7 6-0 9-12 10-13 11-13 12-13 13-14\n",
      "Source: este es el mensaje que recibimos de él y que nosotros les declaramos a ustedes : dios es luz , y no hay ningún vestigio de oscuridad en él .\n",
      "Target: this is the message which we have heard from him and announce to you , that god is light , and in him is no darkness at all .\n",
      "Alignment: 0-8 1-0 1-1 2-2 3-3 3-4 4-15 5-11 6-27 7-9 8-10 10-5 12-11 13-12 14-13 16-16 18-18 19-14 19-19 21-24 22-24 26-25 27-21 29-28\n"
     ]
    }
   ],
   "source": [
    "aligned_corpus = word_align_corpus(parallel_corpus.lowercase(), aligner=\"ibm1\")\n",
    "for row in aligned_corpus.take(5):\n",
    "    print(\"Source:\", row.source_text)\n",
    "    print(\"Target:\", row.target_text)\n",
    "    print(\"Alignment:\", AlignedWordPair.to_string(row.aligned_word_pairs, include_scores=False))"
   ]
  },
  {
   "cell_type": "markdown",
   "metadata": {},
   "source": [
    "## Training models\n",
    "\n",
    "Now, let's get into more advanced scenarios.\n",
    "\n",
    "In this tutorial, we are going to start by training an IBM-1 model. There are two possible ways to train a model. First, we will demonstrate training a model from a class that inherits from `WordAlignmentModel`. All alignment models implement the `WordAlignmentModel` abstract base class. This makes it easier to swap out different models in your code. We use the `create_trainer` method to create a trainer object that is used to train the model. If we do not specify a file path when creating the model object, then the model will only exist in memory. When we call the `save` method, the model instance is updated with the trained model parameters, but the model is not written to disk. We need to preprocess the corpus before training. First, we need to tokenize the corpus. We will also lowercase the data, since that generally gives better results."
   ]
  },
  {
   "cell_type": "code",
   "execution_count": 4,
   "metadata": {},
   "outputs": [
    {
     "name": "stdout",
     "output_type": "stream",
     "text": [
      "Training IBM-1 model: 0.00%\n",
      "Training IBM-1 model: 16.67%\n",
      "Training IBM-1 model: 33.33%\n",
      "Training IBM-1 model: 50.00%\n",
      "Training IBM-1 model: 66.67%\n",
      "Training IBM-1 model: 83.33%\n",
      "Training IBM-1 model: 100.00%\n"
     ]
    }
   ],
   "source": [
    "from machine.translation.thot import ThotIbm1WordAlignmentModel\n",
    "from machine.translation import SymmetrizationHeuristic\n",
    "\n",
    "model = ThotIbm1WordAlignmentModel()\n",
    "trainer = model.create_trainer(parallel_corpus.lowercase())\n",
    "trainer.train(lambda status: print(f\"Training IBM-1 model: {status.percent_completed:.2%}\"))\n",
    "trainer.save()"
   ]
  },
  {
   "cell_type": "markdown",
   "metadata": {},
   "source": [
    "The other option for training a model is to construct a trainer object directly. This method is useful for when you are only interested in training the model and saving it to disk for later use. We need to specify where the model will be saved after it is trained and we call the `save` method."
   ]
  },
  {
   "cell_type": "code",
   "execution_count": 5,
   "metadata": {},
   "outputs": [
    {
     "name": "stdout",
     "output_type": "stream",
     "text": [
      "Training IBM-1 model: 0.00%\n",
      "Training IBM-1 model: 16.67%\n",
      "Training IBM-1 model: 33.33%\n",
      "Training IBM-1 model: 50.00%\n",
      "Training IBM-1 model: 66.67%\n",
      "Training IBM-1 model: 83.33%\n",
      "Training IBM-1 model: 100.00%\n",
      "IBM-1 model saved\n"
     ]
    }
   ],
   "source": [
    "import os\n",
    "from machine.translation.thot import ThotWordAlignmentModelTrainer, ThotWordAlignmentModelType\n",
    "\n",
    "os.makedirs(\"out/VBL-WEB-IBM1\", exist_ok=True)\n",
    "trainer = ThotWordAlignmentModelTrainer(\n",
    "    ThotWordAlignmentModelType.IBM1, parallel_corpus.lowercase(), \"out/VBL-WEB-IBM1/src_trg\"\n",
    ")\n",
    "\n",
    "trainer.train(lambda status: print(f\"Training IBM-1 model: {status.percent_completed:.2%}\"))\n",
    "trainer.save()\n",
    "print(\"IBM-1 model saved\")"
   ]
  },
  {
   "cell_type": "markdown",
   "metadata": {},
   "source": [
    "## Aligning parallel sentences\n",
    "\n",
    "Now that we have a trained alignment model, we can find the best alignment for a parallel sentence. We call `get_best_alignment` method to find the best alignment. The results are returned as a `WordAlignmentMatrix` object."
   ]
  },
  {
   "cell_type": "code",
   "execution_count": 6,
   "metadata": {},
   "outputs": [
    {
     "name": "stdout",
     "output_type": "stream",
     "text": [
      "Source: esta carta trata sobre la palabra de vida que existía desde el principio , que hemos escuchado , que hemos visto con nuestros propios ojos y le hemos contemplado , y que hemos tocado con nuestras manos .\n",
      "Target: that which was from the beginning , that which we have heard , that which we have seen with our eyes , that which we saw , and our hands touched , concerning the word of life\n",
      "Alignment: 2-2 2-20 2-25 2-29 2-30 3-32 4-4 4-33 5-34 6-35 7-36 12-3 12-5 13-6 13-12 13-21 13-26 13-31 15-0 15-7 15-10 15-13 15-16 15-22 16-1 16-8 16-11 16-14 16-23 20-17 21-18 22-19 22-28 25-27 35-9 35-15 35-24\n",
      "Source: esta vida nos fue revelada . la vimos y damos testimonio de ella . estamos hablándoles de aquél que es la vida eterna , que estaba con el padre , y que nos fue revelado .\n",
      "Target: ( and the life was revealed , and we have seen , and testify , and declare to you the life , the eternal life , which was with the father , and was revealed to us ) ;\n",
      "Alignment: 0-17 0-35 1-3 1-20 1-24 2-36 3-4 3-27 3-33 4-0 4-10 4-13 4-16 4-37 8-1 8-7 8-12 8-15 8-32 10-26 12-18 14-8 22-23 23-6 23-11 23-14 23-21 23-25 23-31 26-28 28-2 28-9 28-19 28-22 28-29 28-30 34-5 34-34 34-38\n",
      "Source: los que hemos visto y oído eso mismo les contamos , para que también puedan participar de esta amistad junto a nosotros . esta amistad con el padre y su hijo jesucristo .\n",
      "Target: that which we have seen and heard we declare to you , that you also may have fellowship with us . yes , and our fellowship is with the father and with his son , jesus christ .\n",
      "Alignment: 2-0 2-1 2-2 2-3 2-7 2-12 2-16 3-4 4-5 4-23 4-30 5-21 6-9 8-10 8-13 10-11 10-22 10-34 13-14 14-15 18-6 18-8 18-17 18-24 18-25 21-19 22-20 22-37 25-18 25-27 25-31 26-26 27-28 27-29 29-32 30-33 31-35 31-36\n",
      "Source: escribimos para decirles esto , a fin de que nuestra felicidad sea completa .\n",
      "Target: and we write these things to you , that our joy may be fulfilled .\n",
      "Alignment: 0-9 0-10 0-13 1-8 2-3 2-4 3-5 3-6 4-7 6-0 6-2 9-12 12-1 12-11 13-14\n",
      "Source: este es el mensaje que recibimos de él y que nosotros les declaramos a ustedes : dios es luz , y no hay ningún vestigio de oscuridad en él .\n",
      "Target: this is the message which we have heard from him and announce to you , that god is light , and in him is no darkness at all .\n",
      "Alignment: 0-8 1-1 1-17 1-23 2-2 3-3 3-4 3-7 4-15 5-11 5-26 5-27 7-9 7-22 8-10 8-20 10-5 14-6 14-13 15-0 16-16 18-18 19-14 19-19 22-12 22-24 26-25 27-21 29-28\n"
     ]
    }
   ],
   "source": [
    "model = ThotIbm1WordAlignmentModel(\"out/VBL-WEB-IBM1/src_trg\")\n",
    "for row in parallel_corpus.lowercase().take(5):\n",
    "    alignment = model.get_best_alignment(row.source_segment, row.target_segment)\n",
    "\n",
    "    print(\"Source:\", row.source_text)\n",
    "    print(\"Target:\", row.target_text)\n",
    "    print(\"Alignment:\", str(alignment))"
   ]
  },
  {
   "cell_type": "markdown",
   "metadata": {},
   "source": [
    "Word alignment models also provide the `get_best_alignment_batch` method which aligns a batch of parallel sentences. This can be faster than aligning one parallel sentence at a time."
   ]
  },
  {
   "cell_type": "code",
   "execution_count": 7,
   "metadata": {},
   "outputs": [
    {
     "name": "stdout",
     "output_type": "stream",
     "text": [
      "Source: esta carta trata sobre la palabra de vida que existía desde el principio , que hemos escuchado , que hemos visto con nuestros propios ojos y le hemos contemplado , y que hemos tocado con nuestras manos .\n",
      "Target: that which was from the beginning , that which we have heard , that which we have seen with our eyes , that which we saw , and our hands touched , concerning the word of life\n",
      "Alignment: 2-2 2-20 2-25 2-29 2-30 3-32 4-4 4-33 5-34 6-35 7-36 12-3 12-5 13-6 13-12 13-21 13-26 13-31 15-0 15-7 15-10 15-13 15-16 15-22 16-1 16-8 16-11 16-14 16-23 20-17 21-18 22-19 22-28 25-27 35-9 35-15 35-24\n",
      "Source: esta vida nos fue revelada . la vimos y damos testimonio de ella . estamos hablándoles de aquél que es la vida eterna , que estaba con el padre , y que nos fue revelado .\n",
      "Target: ( and the life was revealed , and we have seen , and testify , and declare to you the life , the eternal life , which was with the father , and was revealed to us ) ;\n",
      "Alignment: 0-17 0-35 1-3 1-20 1-24 2-36 3-4 3-27 3-33 4-0 4-10 4-13 4-16 4-37 8-1 8-7 8-12 8-15 8-32 10-26 12-18 14-8 22-23 23-6 23-11 23-14 23-21 23-25 23-31 26-28 28-2 28-9 28-19 28-22 28-29 28-30 34-5 34-34 34-38\n",
      "Source: los que hemos visto y oído eso mismo les contamos , para que también puedan participar de esta amistad junto a nosotros . esta amistad con el padre y su hijo jesucristo .\n",
      "Target: that which we have seen and heard we declare to you , that you also may have fellowship with us . yes , and our fellowship is with the father and with his son , jesus christ .\n",
      "Alignment: 2-0 2-1 2-2 2-3 2-7 2-12 2-16 3-4 4-5 4-23 4-30 5-21 6-9 8-10 8-13 10-11 10-22 10-34 13-14 14-15 18-6 18-8 18-17 18-24 18-25 21-19 22-20 22-37 25-18 25-27 25-31 26-26 27-28 27-29 29-32 30-33 31-35 31-36\n",
      "Source: escribimos para decirles esto , a fin de que nuestra felicidad sea completa .\n",
      "Target: and we write these things to you , that our joy may be fulfilled .\n",
      "Alignment: 0-9 0-10 0-13 1-8 2-3 2-4 3-5 3-6 4-7 6-0 6-2 9-12 12-1 12-11 13-14\n",
      "Source: este es el mensaje que recibimos de él y que nosotros les declaramos a ustedes : dios es luz , y no hay ningún vestigio de oscuridad en él .\n",
      "Target: this is the message which we have heard from him and announce to you , that god is light , and in him is no darkness at all .\n",
      "Alignment: 0-8 1-1 1-17 1-23 2-2 3-3 3-4 3-7 4-15 5-11 5-26 5-27 7-9 7-22 8-10 8-20 10-5 14-6 14-13 15-0 16-16 18-18 19-14 19-19 22-12 22-24 26-25 27-21 29-28\n"
     ]
    }
   ],
   "source": [
    "segment_batch = list(parallel_corpus.lowercase().take(5).to_tuples())\n",
    "alignments = model.get_best_alignment_batch(segment_batch)\n",
    "\n",
    "for (source_segment, target_segment), alignment in zip(segment_batch, alignments):\n",
    "    print(\"Source:\", \" \".join(source_segment))\n",
    "    print(\"Target:\", \" \".join(target_segment))\n",
    "    print(\"Alignment:\", str(alignment))"
   ]
  },
  {
   "cell_type": "markdown",
   "metadata": {},
   "source": [
    "## Getting model probabilities\n",
    "\n",
    "A statistical word alignment model consists of one or more conditional probability distributions that are estimated from the training data. For example, most models estimate a word translation probability distribution that can be queried to obtain the probability that a source word is a translation of a target word. Each model class has methods to obtain these probabilities. Let's try getting some translation probabilities from the IBM-1 model that we trained by calling the `get_translation_probability` method. In order to get the probability that a word does not translate to anything, you can pass `None` instead of the word string."
   ]
  },
  {
   "cell_type": "code",
   "execution_count": 8,
   "metadata": {},
   "outputs": [
    {
     "name": "stdout",
     "output_type": "stream",
     "text": [
      "es -> is: 0.2720\n",
      "NULL -> that: 0.0516\n"
     ]
    }
   ],
   "source": [
    "model = ThotIbm1WordAlignmentModel(\"out/VBL-WEB-IBM1/src_trg\")\n",
    "prob = model.get_translation_probability(\"es\", \"is\")\n",
    "print(f\"es -> is: {prob:.4f}\")\n",
    "prob = model.get_translation_probability(None, \"that\")\n",
    "print(f\"NULL -> that: {prob:.4f}\")"
   ]
  },
  {
   "cell_type": "markdown",
   "metadata": {},
   "source": [
    "It can also be useful to obtain a score for an entire alignment. The `get_avg_translation_score` method can be used to compute the average translation probability for an alignment."
   ]
  },
  {
   "cell_type": "code",
   "execution_count": 9,
   "metadata": {},
   "outputs": [
    {
     "name": "stdout",
     "output_type": "stream",
     "text": [
      "Source: esta carta trata sobre la palabra de vida que existía desde el principio , que hemos escuchado , que hemos visto con nuestros propios ojos y le hemos contemplado , y que hemos tocado con nuestras manos .\n",
      "Target: that which was from the beginning , that which we have heard , that which we have seen with our eyes , that which we saw , and our hands touched , concerning the word of life\n",
      "Score: 0.1396\n",
      "Source: esta vida nos fue revelada . la vimos y damos testimonio de ella . estamos hablándoles de aquél que es la vida eterna , que estaba con el padre , y que nos fue revelado .\n",
      "Target: ( and the life was revealed , and we have seen , and testify , and declare to you the life , the eternal life , which was with the father , and was revealed to us ) ;\n",
      "Score: 0.1628\n",
      "Source: los que hemos visto y oído eso mismo les contamos , para que también puedan participar de esta amistad junto a nosotros . esta amistad con el padre y su hijo jesucristo .\n",
      "Target: that which we have seen and heard we declare to you , that you also may have fellowship with us . yes , and our fellowship is with the father and with his son , jesus christ .\n",
      "Score: 0.1714\n",
      "Source: escribimos para decirles esto , a fin de que nuestra felicidad sea completa .\n",
      "Target: and we write these things to you , that our joy may be fulfilled .\n",
      "Score: 0.1182\n",
      "Source: este es el mensaje que recibimos de él y que nosotros les declaramos a ustedes : dios es luz , y no hay ningún vestigio de oscuridad en él .\n",
      "Target: this is the message which we have heard from him and announce to you , that god is light , and in him is no darkness at all .\n",
      "Score: 0.1583\n"
     ]
    }
   ],
   "source": [
    "segment_batch = list(parallel_corpus.lowercase().take(5).to_tuples())\n",
    "alignments = model.get_best_alignment_batch(segment_batch)\n",
    "\n",
    "for (source_segment, target_segment), alignment in zip(segment_batch, alignments):\n",
    "    print(\"Source:\", \" \".join(source_segment))\n",
    "    print(\"Target:\", \" \".join(target_segment))\n",
    "    print(\"Score:\", round(model.get_avg_translation_score(source_segment, target_segment, alignment), 4))"
   ]
  },
  {
   "cell_type": "markdown",
   "metadata": {},
   "source": [
    "## Symmetrized alignment models\n",
    "\n",
    "Most statistical word alignment models are directional and asymmetric. This means that it can only model one-to-one and one-to-many alignments in one direction. They are not capable of modeling many-to-many alignments, which can occur in some language pairs. One way to get around this limitation is to train models in both directions (source-to-target and target-to-source), and then merge the resulting alignments from the two models into a single alignment. This is called symmetrization and is a common practice when using statistical word alignment models. In addition, researchers have found that symmetrized alignments are better quality."
   ]
  },
  {
   "cell_type": "markdown",
   "metadata": {},
   "source": [
    "Machine provides a special word alignment model class to support symmetrization called `ThotSymmetrizedWordAlignmentModel`. Let's demonstrate how to use this class. First, we will train the symmetrized model using the `SymmetrizedWordAlignmentModelTrainer` class."
   ]
  },
  {
   "cell_type": "code",
   "execution_count": 10,
   "metadata": {},
   "outputs": [
    {
     "name": "stdout",
     "output_type": "stream",
     "text": [
      "Training direct alignment model: 0.00%\n",
      "Training direct alignment model: 0.00%\n",
      "Training direct alignment model: 8.33%\n",
      "Training direct alignment model: 16.67%\n",
      "Training direct alignment model: 25.00%\n",
      "Training direct alignment model: 33.33%\n",
      "Training direct alignment model: 41.67%\n",
      "Training direct alignment model: 50.00%\n",
      "Training inverse alignment model: 50.00%\n",
      "Training inverse alignment model: 50.00%\n",
      "Training inverse alignment model: 58.33%\n",
      "Training inverse alignment model: 66.67%\n",
      "Training inverse alignment model: 75.00%\n",
      "Training inverse alignment model: 83.33%\n",
      "Training inverse alignment model: 91.67%\n",
      "Training inverse alignment model: 100.00%\n",
      "Symmetrized IBM-1 model saved\n"
     ]
    }
   ],
   "source": [
    "from machine.translation import SymmetrizedWordAlignmentModelTrainer\n",
    "\n",
    "src_trg_trainer = ThotWordAlignmentModelTrainer(\n",
    "    ThotWordAlignmentModelType.IBM1, parallel_corpus.lowercase(), \"out/VBL-WEB-IBM1/src_trg\"\n",
    ")\n",
    "trg_src_trainer = ThotWordAlignmentModelTrainer(\n",
    "    ThotWordAlignmentModelType.IBM1, parallel_corpus.invert().lowercase(), \"out/VBL-WEB-IBM1/trg_src\"\n",
    ")\n",
    "symmetrized_trainer = SymmetrizedWordAlignmentModelTrainer(src_trg_trainer, trg_src_trainer)\n",
    "symmetrized_trainer.train(lambda status: print(f\"{status.message}: {status.percent_completed:.2%}\"))\n",
    "symmetrized_trainer.save()\n",
    "print(\"Symmetrized IBM-1 model saved\")"
   ]
  },
  {
   "cell_type": "markdown",
   "metadata": {},
   "source": [
    "The model can also be trained using the `create_trainer` method on `ThotSymmetrizedWordAlignmentModel`. Now that we've trained the symmetrized model, let's obtain some alignments. Machine supports many different symmetrization heuristics. The symmetrization heuristic to use when merging alignments can be specified using the `heuristic` property. In this case, we will use the `GROW_DIAG_FINAL_AND` heuristic."
   ]
  },
  {
   "cell_type": "code",
   "execution_count": 11,
   "metadata": {},
   "outputs": [
    {
     "name": "stdout",
     "output_type": "stream",
     "text": [
      "Source: esta carta trata sobre la palabra de vida que existía desde el principio , que hemos escuchado , que hemos visto con nuestros propios ojos y le hemos contemplado , y que hemos tocado con nuestras manos .\n",
      "Target: that which was from the beginning , that which we have heard , that which we have seen with our eyes , that which we saw , and our hands touched , concerning the word of life\n",
      "Alignment: 1-25 2-25 3-32 4-4 4-33 5-34 6-35 7-36 8-0 12-5 13-6 15-10 16-11 19-20 20-17 21-18 22-19 25-27 35-9\n",
      "Source: esta vida nos fue revelada . la vimos y damos testimonio de ella . estamos hablándoles de aquél que es la vida eterna , que estaba con el padre , y que nos fue revelado .\n",
      "Target: ( and the life was revealed , and we have seen , and testify , and declare to you the life , the eternal life , which was with the father , and was revealed to us ) ;\n",
      "Alignment: 0-17 1-3 2-36 3-4 4-0 6-38 7-0 8-1 9-0 10-0 11-13 12-18 14-8 18-9 22-23 23-6 26-28 27-2 28-29 28-30 33-4 34-5\n",
      "Source: los que hemos visto y oído eso mismo les contamos , para que también puedan participar de esta amistad junto a nosotros . esta amistad con el padre y su hijo jesucristo .\n",
      "Target: that which we have seen and heard we declare to you , that you also may have fellowship with us . yes , and our fellowship is with the father and with his son , jesus christ .\n",
      "Alignment: 1-0 2-1 2-2 2-3 3-4 4-5 5-21 6-9 8-10 10-11 13-14 14-15 17-8 18-17 19-17 21-19 22-20 24-17 25-18 26-26 27-28 27-29 29-32 30-33 31-35 31-36\n",
      "Source: escribimos para decirles esto , a fin de que nuestra felicidad sea completa .\n",
      "Target: and we write these things to you , that our joy may be fulfilled .\n",
      "Alignment: 0-13 1-8 2-4 3-3 3-5 3-6 4-7 6-0 9-12 10-13 11-13 12-13 13-14\n",
      "Source: este es el mensaje que recibimos de él y que nosotros les declaramos a ustedes : dios es luz , y no hay ningún vestigio de oscuridad en él .\n",
      "Target: this is the message which we have heard from him and announce to you , that god is light , and in him is no darkness at all .\n",
      "Alignment: 0-8 1-0 1-1 2-2 3-3 3-4 4-15 5-11 6-27 7-9 8-10 10-5 12-11 13-12 14-13 16-16 18-18 19-14 19-19 21-24 22-24 26-25 27-21 29-28\n"
     ]
    }
   ],
   "source": [
    "from machine.translation import SymmetrizationHeuristic\n",
    "from machine.translation.thot import ThotSymmetrizedWordAlignmentModel\n",
    "\n",
    "src_trg_model = ThotIbm1WordAlignmentModel(\"out/VBL-WEB-IBM1/src_trg\")\n",
    "trg_src_model = ThotIbm1WordAlignmentModel(\"out/VBL-WEB-IBM1/trg_src\")\n",
    "symmetrized_model = ThotSymmetrizedWordAlignmentModel(src_trg_model, trg_src_model)\n",
    "symmetrized_model.heuristic = SymmetrizationHeuristic.GROW_DIAG_FINAL_AND\n",
    "\n",
    "segment_batch = list(parallel_corpus.lowercase().take(5).to_tuples())\n",
    "alignments = symmetrized_model.get_best_alignment_batch(segment_batch)\n",
    "\n",
    "for (source_segment, target_segment), alignment in zip(segment_batch, alignments):\n",
    "    print(\"Source:\", \" \".join(source_segment))\n",
    "    print(\"Target:\", \" \".join(target_segment))\n",
    "    print(\"Alignment:\", alignment)"
   ]
  }
 ],
 "metadata": {
  "kernelspec": {
   "display_name": "Python 3.7.9 ('sil-machine-7etMAqKM-py3.7')",
   "language": "python",
   "name": "python3"
  },
  "language_info": {
   "codemirror_mode": {
    "name": "ipython",
    "version": 3
   },
   "file_extension": ".py",
   "mimetype": "text/x-python",
   "name": "python",
   "nbconvert_exporter": "python",
   "pygments_lexer": "ipython3",
   "version": "3.7.9"
  },
  "orig_nbformat": 4,
  "vscode": {
   "interpreter": {
    "hash": "ec6b98af58837a5b72a1b66a946c8d6ecc1378ecb112d70effd9a5974ab7ed37"
   }
  }
 },
 "nbformat": 4,
 "nbformat_minor": 2
}
