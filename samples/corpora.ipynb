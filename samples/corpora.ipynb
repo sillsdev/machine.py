{
 "cells": [
  {
   "cell_type": "markdown",
   "metadata": {},
   "source": [
    "# Text Corpora Tutorial\n",
    "\n",
    "In this notebook, we will demonstrate how to use Machine to load datasets as text corpora."
   ]
  },
  {
   "cell_type": "markdown",
   "metadata": {},
   "source": [
    "## Loading Text Files\n",
    "\n",
    "Let's start with a simple example of loading a set of text files."
   ]
  },
  {
   "cell_type": "code",
   "execution_count": 6,
   "metadata": {},
   "outputs": [],
   "source": [
    "from machine.corpora import TextFileTextCorpus\n",
    "\n",
    "corpus = TextFileTextCorpus(\"data/en_tok.txt\")"
   ]
  },
  {
   "cell_type": "markdown",
   "metadata": {},
   "source": [
    "It is easy to iterate through the sentences in the corpus. We simply call the `get_rows` method on the corpus class."
   ]
  },
  {
   "cell_type": "code",
   "execution_count": 7,
   "metadata": {},
   "outputs": [
    {
     "name": "stdout",
     "output_type": "stream",
     "text": [
      "Would you mind giving us the keys to the room , please ?\n",
      "I have made a reservation for a quiet , double room with a telephone and a tv for Rosario Cabedo .\n",
      "Would you mind moving me to a quieter room ?\n",
      "I have booked a room .\n",
      "I think that there is a problem .\n",
      "Do you have any rooms with a tv , air conditioning and a safe available ?\n",
      "Would you mind showing us a room with a tv ?\n",
      "Does it have a telephone ?\n",
      "I am leaving on the second at eight in the evening .\n",
      "How much does a single room cost per week ?\n"
     ]
    }
   ],
   "source": [
    "for row in corpus.take(10):\n",
    "    print(row.text)"
   ]
  },
  {
   "cell_type": "markdown",
   "metadata": {},
   "source": [
    "## Loading Scripture\n",
    "\n",
    "Machine contains classes for loading Scripture in various formats, such as USFM and USX."
   ]
  },
  {
   "cell_type": "markdown",
   "metadata": {},
   "source": [
    "### USX\n",
    "\n",
    "USX is a common XML format for Scripture. Let's take a look at how to load a set of USX files. First, we create an instance of the `UsxFileTextCorpus` class. We ensure that the correct verse references are used by loading the versification file for this translation. If a versification is not provided, then the English versification is used. We want untokenized verse text, so we use the `NullTokenizer`."
   ]
  },
  {
   "cell_type": "code",
   "execution_count": 8,
   "metadata": {},
   "outputs": [],
   "source": [
    "from machine.corpora import UsxFileTextCorpus\n",
    "from machine.scripture import Versification\n",
    "\n",
    "versification = Versification.load(\"data/WEB-DBL/release/versification.vrs\", fallback_name=\"web\")\n",
    "corpus = UsxFileTextCorpus(\"data/WEB-DBL/release/USX_1\", versification=versification)"
   ]
  },
  {
   "cell_type": "markdown",
   "metadata": {},
   "source": [
    "Let's iterate through the corpus. You will notice that each text segment in the corpus has an associated reference. In the case of Scripture, these are `VerseRef` objects."
   ]
  },
  {
   "cell_type": "code",
   "execution_count": 9,
   "metadata": {},
   "outputs": [
    {
     "name": "stdout",
     "output_type": "stream",
     "text": [
      "1JN 1:1: That which was from the beginning, that which we have heard, that which we have seen with our eyes, that which we saw, and our hands touched, concerning the Word of life\n",
      "1JN 1:2: (and the life was revealed, and we have seen, and testify, and declare to you the life, the eternal life, which was with the Father, and was revealed to us);\n",
      "1JN 1:3: that which we have seen and heard we declare to you, that you also may have fellowship with us. Yes, and our fellowship is with the Father and with his Son, Jesus Christ.\n",
      "1JN 1:4: And we write these things to you, that our joy may be fulfilled.\n",
      "1JN 1:5: This is the message which we have heard from him and announce to you, that God is light, and in him is no darkness at all.\n",
      "1JN 1:6: If we say that we have fellowship with him and walk in the darkness, we lie and don’t tell the truth.\n",
      "1JN 1:7: But if we walk in the light as he is in the light, we have fellowship with one another, and the blood of Jesus Christ his Son, cleanses us from all sin.\n",
      "1JN 1:8: If we say that we have no sin, we deceive ourselves, and the truth is not in us.\n",
      "1JN 1:9: If we confess our sins, he is faithful and righteous to forgive us the sins and to cleanse us from all unrighteousness.\n",
      "1JN 1:10: If we say that we haven’t sinned, we make him a liar, and his word is not in us.\n"
     ]
    }
   ],
   "source": [
    "for row in corpus.take(10):\n",
    "    print(f\"{row.ref}: {row.text}\")"
   ]
  },
  {
   "cell_type": "markdown",
   "metadata": {},
   "source": [
    "You can also iterate through verses in the corpus by book."
   ]
  },
  {
   "cell_type": "code",
   "execution_count": 10,
   "metadata": {},
   "outputs": [
    {
     "name": "stdout",
     "output_type": "stream",
     "text": [
      "1JN\n",
      "======\n",
      "1:1: That which was from the beginning, that which we have heard, that which we have seen with our eyes, that which we saw, and our hands touched, concerning the Word of life\n",
      "1:2: (and the life was revealed, and we have seen, and testify, and declare to you the life, the eternal life, which was with the Father, and was revealed to us);\n",
      "1:3: that which we have seen and heard we declare to you, that you also may have fellowship with us. Yes, and our fellowship is with the Father and with his Son, Jesus Christ.\n",
      "\n",
      "2JN\n",
      "======\n",
      "1:1: The elder, to the chosen lady and her children, whom I love in truth, and not I only, but also all those who know the truth,\n",
      "1:2: for the truth’s sake, which remains in us, and it will be with us forever:\n",
      "1:3: Grace, mercy, and peace will be with us, from God the Father and from the Lord Jesus Christ, the Son of the Father, in truth and love.\n",
      "\n",
      "3JN\n",
      "======\n",
      "1:1: The elder to Gaius the beloved, whom I love in truth.\n",
      "1:2: Beloved, I pray that you may prosper in all things and be healthy, even as your soul prospers.\n",
      "1:3: For I rejoiced greatly when brothers came and testified about your truth, even as you walk in truth.\n",
      "\n"
     ]
    }
   ],
   "source": [
    "for text in corpus.texts:\n",
    "    print(text.id)\n",
    "    print(\"======\")\n",
    "    for row in text.take(3):\n",
    "        verse_ref = row.ref\n",
    "        chapter_verse = f\"{verse_ref.chapter}:{verse_ref.verse}\"\n",
    "        print(f\"{chapter_verse}: {row.text}\")\n",
    "    print()"
   ]
  },
  {
   "cell_type": "markdown",
   "metadata": {},
   "source": [
    "### Digital Bible Library Bundles\n",
    "\n",
    "Now, let's load a Digital Bible Library (DBL) bundle. A DBL bundle is a zip archive that contains all of the data that you need for a publishable Bible translation."
   ]
  },
  {
   "cell_type": "code",
   "execution_count": 11,
   "metadata": {},
   "outputs": [
    {
     "name": "stdout",
     "output_type": "stream",
     "text": [
      "DBL bundle created.\n"
     ]
    }
   ],
   "source": [
    "import shutil\n",
    "\n",
    "shutil.make_archive(\"out/web\", \"zip\", \"data/WEB-DBL\")\n",
    "print(\"DBL bundle created.\")"
   ]
  },
  {
   "cell_type": "markdown",
   "metadata": {},
   "source": [
    "First, we create a `DblBundleTextCorpus` instance. There is no need to specify versification, because the `DblBundleTextCorpus` class takes care of that for us."
   ]
  },
  {
   "cell_type": "code",
   "execution_count": 12,
   "metadata": {},
   "outputs": [],
   "source": [
    "from machine.corpora import DblBundleTextCorpus\n",
    "\n",
    "corpus = DblBundleTextCorpus(\"out/web.zip\")"
   ]
  },
  {
   "cell_type": "markdown",
   "metadata": {},
   "source": [
    "We can iterate through the corpus just as we did before. All text corpus classes in Machine adhere to the same interface, so it is easy to switch between the various classes. Also, you can see that the verse text is nicely tokenized."
   ]
  },
  {
   "cell_type": "code",
   "execution_count": 13,
   "metadata": {},
   "outputs": [
    {
     "name": "stdout",
     "output_type": "stream",
     "text": [
      "1JN 1:1: That which was from the beginning, that which we have heard, that which we have seen with our eyes, that which we saw, and our hands touched, concerning the Word of life\n",
      "1JN 1:2: (and the life was revealed, and we have seen, and testify, and declare to you the life, the eternal life, which was with the Father, and was revealed to us);\n",
      "1JN 1:3: that which we have seen and heard we declare to you, that you also may have fellowship with us. Yes, and our fellowship is with the Father and with his Son, Jesus Christ.\n",
      "1JN 1:4: And we write these things to you, that our joy may be fulfilled.\n",
      "1JN 1:5: This is the message which we have heard from him and announce to you, that God is light, and in him is no darkness at all.\n",
      "1JN 1:6: If we say that we have fellowship with him and walk in the darkness, we lie and don’t tell the truth.\n",
      "1JN 1:7: But if we walk in the light as he is in the light, we have fellowship with one another, and the blood of Jesus Christ his Son, cleanses us from all sin.\n",
      "1JN 1:8: If we say that we have no sin, we deceive ourselves, and the truth is not in us.\n",
      "1JN 1:9: If we confess our sins, he is faithful and righteous to forgive us the sins and to cleanse us from all unrighteousness.\n",
      "1JN 1:10: If we say that we haven’t sinned, we make him a liar, and his word is not in us.\n"
     ]
    }
   ],
   "source": [
    "for row in corpus.take(10):\n",
    "    print(f\"{row.ref}: {row.text}\")"
   ]
  },
  {
   "cell_type": "markdown",
   "metadata": {},
   "source": [
    "### Paratext Projects\n",
    "\n",
    "Another useful text corpus class is `ParatextTextCorpus`. This class is used to load a Paratext project. It properly loads the configured encoding and versification for the project."
   ]
  },
  {
   "cell_type": "code",
   "execution_count": 1,
   "metadata": {},
   "outputs": [],
   "source": [
    "from machine.corpora import ParatextTextCorpus\n",
    "\n",
    "corpus = ParatextTextCorpus(\"data/WEB-PT\")"
   ]
  },
  {
   "cell_type": "markdown",
   "metadata": {},
   "source": [
    "Now, let's iterate through the verses."
   ]
  },
  {
   "cell_type": "code",
   "execution_count": 15,
   "metadata": {},
   "outputs": [
    {
     "name": "stdout",
     "output_type": "stream",
     "text": [
      "1JN 1:1: That which was from the beginning, that which we have heard, that which we have seen with our eyes, that which we saw, and our hands touched, concerning the Word of life\n",
      "1JN 1:2: (and the life was revealed, and we have seen, and testify, and declare to you the life, the eternal life, which was with the Father, and was revealed to us);\n",
      "1JN 1:3: that which we have seen and heard we declare to you, that you also may have fellowship with us. Yes, and our fellowship is with the Father and with his Son, Jesus Christ.\n",
      "1JN 1:4: And we write these things to you, that our joy may be fulfilled.\n",
      "1JN 1:5: This is the message which we have heard from him and announce to you, that God is light, and in him is no darkness at all.\n",
      "1JN 1:6: If we say that we have fellowship with him and walk in the darkness, we lie and don’t tell the truth.\n",
      "1JN 1:7: But if we walk in the light as he is in the light, we have fellowship with one another, and the blood of Jesus Christ his Son, cleanses us from all sin.\n",
      "1JN 1:8: If we say that we have no sin, we deceive ourselves, and the truth is not in us.\n",
      "1JN 1:9: If we confess our sins, he is faithful and righteous to forgive us the sins and to cleanse us from all unrighteousness.\n",
      "1JN 1:10: If we say that we haven’t sinned, we make him a liar, and his word is not in us.\n"
     ]
    }
   ],
   "source": [
    "for row in corpus.take(10):\n",
    "    print(f\"{row.ref}: {row.text}\")"
   ]
  },
  {
   "cell_type": "markdown",
   "metadata": {},
   "source": [
    "### Extracting Scripture to BibleNLP text format\n",
    "\n",
    "[BibleNLP](https://github.com/BibleNLP) uses a simple text format for Scripture that makes it easy to align verses across different translations. Each line contains text for a specific verse. The sequence of verses is aligned to a canonical list of books, chapters, and verses. This canonical verse list is based on the Original versification. The [vref.txt](https://github.com/BibleNLP/ebible/blob/main/metadata/vref.txt) contains the list of verse references that align to this sequence. If a corpus contains verse ranges, then all of the text in the verse range will be found on the line corresponding to the first verse. The remaining verses will be marked with the special \"&lt;range&gt;\" token.\n",
    "\n",
    "You can use the `extract_scripture_corpus` to generate a text file in the BibleNLP format. The function returns the verses aligned with the Original versification. The extracted verses can be written line-by-line to a text file. The function also returns the corresponding Original and corpus verse references."
   ]
  },
  {
   "cell_type": "code",
   "execution_count": 2,
   "metadata": {},
   "outputs": [
    {
     "name": "stdout",
     "output_type": "stream",
     "text": [
      "41899 verses extracted.\n",
      "Lines 30608-30617 (1JN 1:1-10):\n",
      "That which was from the beginning, that which we have heard, that which we have seen with our eyes, that which we saw, and our hands touched, concerning the Word of life\n",
      "(and the life was revealed, and we have seen, and testify, and declare to you the life, the eternal life, which was with the Father, and was revealed to us);\n",
      "that which we have seen and heard we declare to you, that you also may have fellowship with us. Yes, and our fellowship is with the Father and with his Son, Jesus Christ.\n",
      "And we write these things to you, that our joy may be fulfilled.\n",
      "This is the message which we have heard from him and announce to you, that God is light, and in him is no darkness at all.\n",
      "If we say that we have fellowship with him and walk in the darkness, we lie and don’t tell the truth.\n",
      "But if we walk in the light as he is in the light, we have fellowship with one another, and the blood of Jesus Christ his Son, cleanses us from all sin.\n",
      "If we say that we have no sin, we deceive ourselves, and the truth is not in us.\n",
      "If we confess our sins, he is faithful and righteous to forgive us the sins and to cleanse us from all unrighteousness.\n",
      "If we say that we haven’t sinned, we make him a liar, and his word is not in us.\n"
     ]
    }
   ],
   "source": [
    "from machine.corpora import extract_scripture_corpus\n",
    "\n",
    "output = list(extract_scripture_corpus(corpus))\n",
    "print(len(output), \"verses extracted.\")\n",
    "print(\"Lines 30608-30617 (1JN 1:1-10):\")\n",
    "for line, _, _ in output[30607:30617]:\n",
    "    print(line)"
   ]
  },
  {
   "cell_type": "markdown",
   "metadata": {},
   "source": [
    "## Parallel Text Corpora\n",
    "\n",
    "So far we have only dealt with monolingual corpora. For many tasks, such as machine translation, parallel corpora are required. Machine provides a corpus class for combining two monolingual corpora into a parallel corpus."
   ]
  },
  {
   "cell_type": "markdown",
   "metadata": {},
   "source": [
    "In order to create a parallel text corpus, we must first create the source and target monolingual text corpora. Then, we create the parallel corpus using the `align_rows` method."
   ]
  },
  {
   "cell_type": "code",
   "execution_count": 17,
   "metadata": {},
   "outputs": [],
   "source": [
    "source_corpus = ParatextTextCorpus(\"data/VBL-PT\")\n",
    "target_corpus = ParatextTextCorpus(\"data/WEB-PT\")\n",
    "parallel_corpus = source_corpus.align_rows(target_corpus)"
   ]
  },
  {
   "cell_type": "markdown",
   "metadata": {},
   "source": [
    "We can now iterate through the parallel verses."
   ]
  },
  {
   "cell_type": "code",
   "execution_count": 18,
   "metadata": {},
   "outputs": [
    {
     "name": "stdout",
     "output_type": "stream",
     "text": [
      "1JN 1:1\n",
      "Source: Esta carta trata sobre la Palabra de vida que existía desde el principio, que hemos escuchado, que hemos visto con nuestros propios ojos y le hemos contemplado, y que hemos tocado con nuestras manos.\n",
      "Target: That which was from the beginning, that which we have heard, that which we have seen with our eyes, that which we saw, and our hands touched, concerning the Word of life\n",
      "1JN 1:2\n",
      "Source: Esta Vida nos fue revelada. La vimos y damos testimonio de ella. Estamos hablándoles de Aquél que es la Vida Eterna, que estaba con el Padre, y que nos fue revelado.\n",
      "Target: (and the life was revealed, and we have seen, and testify, and declare to you the life, the eternal life, which was with the Father, and was revealed to us);\n",
      "1JN 1:3\n",
      "Source: Los que hemos visto y oído eso mismo les contamos, para que también puedan participar de esta amistad junto a nosotros. Esta amistad con el Padre y su Hijo Jesucristo.\n",
      "Target: that which we have seen and heard we declare to you, that you also may have fellowship with us. Yes, and our fellowship is with the Father and with his Son, Jesus Christ.\n",
      "1JN 1:4\n",
      "Source: Escribimos para decirles esto, a fin de que nuestra felicidad sea completa.\n",
      "Target: And we write these things to you, that our joy may be fulfilled.\n",
      "1JN 1:5\n",
      "Source: Este es el mensaje que recibimos de él y que nosotros les declaramos a ustedes: Dios es luz, y no hay ningún vestigio de oscuridad en él.\n",
      "Target: This is the message which we have heard from him and announce to you, that God is light, and in him is no darkness at all.\n"
     ]
    }
   ],
   "source": [
    "for row in parallel_corpus.take(5):\n",
    "    print(row.ref)\n",
    "    print(\"Source:\", row.source_text)\n",
    "    print(\"Target:\", row.target_text)"
   ]
  },
  {
   "cell_type": "markdown",
   "metadata": {},
   "source": [
    "### Hugging Face Datasets\n",
    "\n",
    "Hugging Face is a popular community and AI platform that provides access to many datasets and models. Machine provides the ability to convert `ParallelTextCorpus` to/from a Hugging Face dataset.\n",
    "\n",
    "You can convert a Hugging Face dataset to a parallel text corpus by using the `from_hf_dataset` class method. In this example, we will load the English-Afrikaans Tatoeba corpus using the Hugging Face Datasets library and then convert it to a `ParallelTextCorpus`. Machine supports any datasets that use the [`Translation`](https://huggingface.co/docs/datasets/main/en/package_reference/main_classes#datasets.Translation) or [`TranslationVariableLanguages`](https://huggingface.co/docs/datasets/main/en/package_reference/main_classes#datasets.TranslationVariableLanguages) feature. The source and target language must be specified when calling `from_hf_dataset`."
   ]
  },
  {
   "cell_type": "code",
   "execution_count": 19,
   "metadata": {},
   "outputs": [
    {
     "name": "stderr",
     "output_type": "stream",
     "text": [
      "c:\\Users\\damie\\AppData\\Local\\pypoetry\\Cache\\virtualenvs\\sil-machine-7etMAqKM-py3.7\\lib\\site-packages\\requests\\__init__.py:104: RequestsDependencyWarning: urllib3 (1.26.8) or chardet (5.0.0)/charset_normalizer (2.0.10) doesn't match a supported version!\n",
      "  RequestsDependencyWarning)\n",
      "c:\\Users\\damie\\AppData\\Local\\pypoetry\\Cache\\virtualenvs\\sil-machine-7etMAqKM-py3.7\\lib\\site-packages\\tqdm\\auto.py:22: TqdmWarning: IProgress not found. Please update jupyter and ipywidgets. See https://ipywidgets.readthedocs.io/en/stable/user_install.html\n",
      "  from .autonotebook import tqdm as notebook_tqdm\n",
      "Using custom data configuration af-en-lang1=af,lang2=en\n",
      "Reusing dataset tatoeba (C:\\Users\\damie\\.cache\\huggingface\\datasets\\tatoeba\\af-en-lang1=af,lang2=en\\0.0.0\\b3ea9c6bb2af47699c5fc0a155643f5a0da287c7095ea14824ee0a8afd74daf6)\n",
      "100%|██████████| 1/1 [00:00<00:00, 494.49it/s]"
     ]
    },
    {
     "name": "stdout",
     "output_type": "stream",
     "text": [
      "0\n",
      "Source: Hy skop my!\n",
      "Target: He's kicking me!\n",
      "1\n",
      "Source: Ek is lief vir jou.\n",
      "Target: I love you.\n",
      "2\n",
      "Source: Ek hou van jou.\n",
      "Target: I love you.\n",
      "3\n",
      "Source: Baie geluk!\n",
      "Target: Congratulations!\n",
      "4\n",
      "Source: Ek praat nie goed genoeg Frans nie!\n",
      "Target: I don't speak French well enough!\n"
     ]
    },
    {
     "name": "stderr",
     "output_type": "stream",
     "text": [
      "\n"
     ]
    }
   ],
   "source": [
    "from datasets import load_dataset\n",
    "from machine.corpora import ParallelTextCorpus\n",
    "\n",
    "ds = load_dataset(\"tatoeba\", lang1=\"af\", lang2=\"en\")\n",
    "parallel_corpus = ParallelTextCorpus.from_hf_dataset(ds[\"train\"], source_lang=\"af\", target_lang=\"en\")\n",
    "for row in parallel_corpus.take(5):\n",
    "    print(row.ref)\n",
    "    print(\"Source:\", row.source_text)\n",
    "    print(\"Target:\", row.target_text)"
   ]
  },
  {
   "cell_type": "markdown",
   "metadata": {},
   "source": [
    "You can also convert a parallel text corpus to a Hugging Face dataset. This is useful if you want to use a parallel text corpus in a Hugging Face model.\n",
    "\n",
    "In this example, we will convert a parallel corpus of Paratext projects to a Hugging Face dataset using the `to_hf_dataset` method. This method returns the dataset as an [`IterableDataset`](https://huggingface.co/docs/datasets/package_reference/main_classes#datasets.IterableDataset) object."
   ]
  },
  {
   "cell_type": "code",
   "execution_count": 20,
   "metadata": {},
   "outputs": [
    {
     "name": "stdout",
     "output_type": "stream",
     "text": [
      "{\n",
      "  \"translation\": {\n",
      "    \"es\": \"Esta carta trata sobre la Palabra de vida que exist\\u00eda desde el principio, que hemos escuchado, que hemos visto con nuestros propios ojos y le hemos contemplado, y que hemos tocado con nuestras manos.\",\n",
      "    \"en\": \"That which was from the beginning, that which we have heard, that which we have seen with our eyes, that which we saw, and our hands touched, concerning the Word of life\"\n",
      "  },\n",
      "  \"text\": \"1JN\",\n",
      "  \"ref\": [\n",
      "    \"1JN 1:1\"\n",
      "  ],\n",
      "  \"alignment\": null\n",
      "}\n"
     ]
    }
   ],
   "source": [
    "import json\n",
    "\n",
    "source_corpus = ParatextTextCorpus(\"data/VBL-PT\")\n",
    "target_corpus = ParatextTextCorpus(\"data/WEB-PT\")\n",
    "parallel_corpus = source_corpus.align_rows(target_corpus)\n",
    "ds = parallel_corpus.to_hf_dataset(source_lang=\"es\", target_lang=\"en\")\n",
    "print(json.dumps(next(iter(ds)), indent=2))"
   ]
  },
  {
   "cell_type": "markdown",
   "metadata": {},
   "source": [
    "## Corpus Processing\n",
    "\n",
    "Often a text corpus must be processed in some way as a part of a AI/ML pipeline. Machine has a set of operations that can be used to process a corpus easily. Lowercasing text is a common pre-processing step, so let's show how to apply the \"lowercase\" operation."
   ]
  },
  {
   "cell_type": "code",
   "execution_count": 21,
   "metadata": {},
   "outputs": [
    {
     "name": "stdout",
     "output_type": "stream",
     "text": [
      "1JN 1:1: that which was from the beginning, that which we have heard, that which we have seen with our eyes, that which we saw, and our hands touched, concerning the word of life\n",
      "1JN 1:2: (and the life was revealed, and we have seen, and testify, and declare to you the life, the eternal life, which was with the father, and was revealed to us);\n",
      "1JN 1:3: that which we have seen and heard we declare to you, that you also may have fellowship with us. yes, and our fellowship is with the father and with his son, jesus christ.\n",
      "1JN 1:4: and we write these things to you, that our joy may be fulfilled.\n",
      "1JN 1:5: this is the message which we have heard from him and announce to you, that god is light, and in him is no darkness at all.\n",
      "1JN 1:6: if we say that we have fellowship with him and walk in the darkness, we lie and don’t tell the truth.\n",
      "1JN 1:7: but if we walk in the light as he is in the light, we have fellowship with one another, and the blood of jesus christ his son, cleanses us from all sin.\n",
      "1JN 1:8: if we say that we have no sin, we deceive ourselves, and the truth is not in us.\n",
      "1JN 1:9: if we confess our sins, he is faithful and righteous to forgive us the sins and to cleanse us from all unrighteousness.\n",
      "1JN 1:10: if we say that we haven’t sinned, we make him a liar, and his word is not in us.\n"
     ]
    }
   ],
   "source": [
    "corpus = ParatextTextCorpus(\"data/WEB-PT\")\n",
    "\n",
    "for row in corpus.lowercase().take(10):\n",
    "    print(f\"{row.ref}: {row.text}\")"
   ]
  },
  {
   "cell_type": "markdown",
   "metadata": {},
   "source": [
    "Multiple operations can be chained together. Here we will tokenize, lowercase, and normalize the corpus."
   ]
  },
  {
   "cell_type": "code",
   "execution_count": 22,
   "metadata": {},
   "outputs": [
    {
     "name": "stdout",
     "output_type": "stream",
     "text": [
      "1JN 1:1: that which was from the beginning , that which we have heard , that which we have seen with our eyes , that which we saw , and our hands touched , concerning the word of life\n",
      "1JN 1:2: ( and the life was revealed , and we have seen , and testify , and declare to you the life , the eternal life , which was with the father , and was revealed to us ) ;\n",
      "1JN 1:3: that which we have seen and heard we declare to you , that you also may have fellowship with us . yes , and our fellowship is with the father and with his son , jesus christ .\n",
      "1JN 1:4: and we write these things to you , that our joy may be fulfilled .\n",
      "1JN 1:5: this is the message which we have heard from him and announce to you , that god is light , and in him is no darkness at all .\n",
      "1JN 1:6: if we say that we have fellowship with him and walk in the darkness , we lie and don’t tell the truth .\n",
      "1JN 1:7: but if we walk in the light as he is in the light , we have fellowship with one another , and the blood of jesus christ his son , cleanses us from all sin .\n",
      "1JN 1:8: if we say that we have no sin , we deceive ourselves , and the truth is not in us .\n",
      "1JN 1:9: if we confess our sins , he is faithful and righteous to forgive us the sins and to cleanse us from all unrighteousness .\n",
      "1JN 1:10: if we say that we haven’t sinned , we make him a liar , and his word is not in us .\n"
     ]
    }
   ],
   "source": [
    "from machine.tokenization import LatinWordTokenizer\n",
    "\n",
    "tokenizer = LatinWordTokenizer()\n",
    "\n",
    "for row in corpus.tokenize(tokenizer).lowercase().nfc_normalize().take(10):\n",
    "    print(f\"{row.ref}: {row.text}\")"
   ]
  },
  {
   "cell_type": "markdown",
   "metadata": {},
   "source": [
    "Corpus processing operations are also available on parallel corpora."
   ]
  },
  {
   "cell_type": "code",
   "execution_count": 23,
   "metadata": {},
   "outputs": [
    {
     "name": "stdout",
     "output_type": "stream",
     "text": [
      "1JN 1:1\n",
      "Source: esta carta trata sobre la palabra de vida que existía desde el principio , que hemos escuchado , que hemos visto con nuestros propios ojos y le hemos contemplado , y que hemos tocado con nuestras manos .\n",
      "Target: that which was from the beginning , that which we have heard , that which we have seen with our eyes , that which we saw , and our hands touched , concerning the word of life\n",
      "1JN 1:2\n",
      "Source: esta vida nos fue revelada . la vimos y damos testimonio de ella . estamos hablándoles de aquél que es la vida eterna , que estaba con el padre , y que nos fue revelado .\n",
      "Target: ( and the life was revealed , and we have seen , and testify , and declare to you the life , the eternal life , which was with the father , and was revealed to us ) ;\n",
      "1JN 1:3\n",
      "Source: los que hemos visto y oído eso mismo les contamos , para que también puedan participar de esta amistad junto a nosotros . esta amistad con el padre y su hijo jesucristo .\n",
      "Target: that which we have seen and heard we declare to you , that you also may have fellowship with us . yes , and our fellowship is with the father and with his son , jesus christ .\n",
      "1JN 1:4\n",
      "Source: escribimos para decirles esto , a fin de que nuestra felicidad sea completa .\n",
      "Target: and we write these things to you , that our joy may be fulfilled .\n",
      "1JN 1:5\n",
      "Source: este es el mensaje que recibimos de él y que nosotros les declaramos a ustedes : dios es luz , y no hay ningún vestigio de oscuridad en él .\n",
      "Target: this is the message which we have heard from him and announce to you , that god is light , and in him is no darkness at all .\n"
     ]
    }
   ],
   "source": [
    "source_corpus = ParatextTextCorpus(\"data/VBL-PT\")\n",
    "target_corpus = ParatextTextCorpus(\"data/WEB-PT\")\n",
    "parallel_corpus = source_corpus.align_rows(target_corpus)\n",
    "\n",
    "for row in parallel_corpus.tokenize(tokenizer).lowercase().nfc_normalize().take(5):\n",
    "    print(row.ref)\n",
    "    print(\"Source:\", row.source_text)\n",
    "    print(\"Target:\", row.target_text)"
   ]
  }
 ],
 "metadata": {
  "kernelspec": {
   "display_name": "Python 3.7.9 ('sil-machine-7etMAqKM-py3.7')",
   "language": "python",
   "name": "python3"
  },
  "language_info": {
   "codemirror_mode": {
    "name": "ipython",
    "version": 3
   },
   "file_extension": ".py",
   "mimetype": "text/x-python",
   "name": "python",
   "nbconvert_exporter": "python",
   "pygments_lexer": "ipython3",
   "version": "3.7.9"
  },
  "orig_nbformat": 4,
  "vscode": {
   "interpreter": {
    "hash": "66ad53a2fda857959ef6e2525c8531f1eed3c45b82035e48d4b59bbb4a12b875"
   }
  }
 },
 "nbformat": 4,
 "nbformat_minor": 2
}
